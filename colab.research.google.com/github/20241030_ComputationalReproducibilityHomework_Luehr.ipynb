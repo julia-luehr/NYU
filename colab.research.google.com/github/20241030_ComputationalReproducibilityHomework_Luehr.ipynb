{
  "nbformat": 4,
  "nbformat_minor": 0,
  "metadata": {
    "colab": {
      "provenance": [],
      "authorship_tag": "ABX9TyNZIP/yGfCxwyvtpdMVt/S4",
      "include_colab_link": true
    },
    "kernelspec": {
      "name": "python3",
      "display_name": "Python 3"
    },
    "language_info": {
      "name": "python"
    }
  },
  "cells": [
    {
      "cell_type": "markdown",
      "metadata": {
        "id": "view-in-github",
        "colab_type": "text"
      },
      "source": [
        "<a href=\"https://colab.research.google.com/github/julia-luehr/NYU/blob/main/colab.research.google.com/github/20241030_ComputationalReproducibilityHomework_Luehr.ipynb\" target=\"_parent\"><img src=\"https://colab.research.google.com/assets/colab-badge.svg\" alt=\"Open In Colab\"/></a>"
      ]
    },
    {
      "cell_type": "markdown",
      "source": [
        "# APEX: Computational Reproducibility Homework\n",
        "## Julia Luehr\n",
        "\n",
        "30 October 2024\n"
      ],
      "metadata": {
        "id": "bTQUVmm8uYzr"
      }
    },
    {
      "cell_type": "code",
      "source": [
        "# Today's Date\n",
        "import datetime # import function\n",
        "today = datetime.date.today() # set var equal to today\n",
        "print(\"Today's date is:\", today) # print date"
      ],
      "metadata": {
        "colab": {
          "base_uri": "https://localhost:8080/"
        },
        "id": "IQOAaX_BwDai",
        "outputId": "22f44acf-dae1-4a27-ea45-2dce2c5ae3b8"
      },
      "execution_count": 11,
      "outputs": [
        {
          "output_type": "stream",
          "name": "stdout",
          "text": [
            "Today's date is: 2024-10-30\n"
          ]
        }
      ]
    },
    {
      "cell_type": "code",
      "source": [
        "# Simple Arithmetic Operation\n",
        "\n",
        "# set vars\n",
        "x = 2\n",
        "y = 3\n",
        "z = 4\n",
        "\n",
        "a = (x+y)/z # solve for a\n",
        "\n",
        "print(\"The solution to the operation is \", a) # print"
      ],
      "metadata": {
        "colab": {
          "base_uri": "https://localhost:8080/"
        },
        "id": "taOkZ-aC1m86",
        "outputId": "64ff491c-fb54-462c-ef28-99d1aef9b4de"
      },
      "execution_count": 13,
      "outputs": [
        {
          "output_type": "stream",
          "name": "stdout",
          "text": [
            "The solution to the operation is  1.25\n"
          ]
        }
      ]
    },
    {
      "cell_type": "markdown",
      "source": [
        "## Reflection on Reproducibility\n",
        "\n",
        " There are six domains in which best practices can help improve compuational reproducibility: data management, software, collaboration, project organization, track changes, and writing manuscripts. Proper use of repositories helps across all of these domains.\n",
        "\n",
        " First, using a repository makes our data publicly available, which means that collaborators are able to use the exact same algorithms and analyses that we performed on their own datasets. By sharing exact mehtods on repositories, we can help ensure that comprable analyses are performed to draw sound conclusions about given datasets.\n",
        "\n",
        " Second, tracking changes can help keep collaborators and the broaders scientific community informed of evolving analyses. As technology improves and our ideas evolve, code and algorithms will change as well. It is important to inform those in the field of any changes made to an alogorithm so that replicate analyses on an experiment are identical, and allow for conclusion of meaningful differences between subject groups. Further, track changes can help keep collaborators informed of best practices in the computational field, which further aids in efficacy and reproducibility across computational biomedicine.\n",
        "\n",
        " Finally, publishing allows for data transparency, which is key to collaboration and writing manuscripts. Data must be ethically analyzed, and sharing the data itself, along with the analyses pipelines, to public repositories allows for peer-review of information to ensure honest data interpretations.\n",
        "\n",
        " Overall, using repositories, track changes, and public publishing is essential to encourage computational reproducibility.\n",
        "\n"
      ],
      "metadata": {
        "id": "vRPHnaiC17vk"
      }
    }
  ]
}